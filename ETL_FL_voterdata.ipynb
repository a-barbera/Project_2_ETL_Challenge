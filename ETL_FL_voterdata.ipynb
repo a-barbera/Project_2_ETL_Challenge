{
 "cells": [
  {
   "cell_type": "code",
   "execution_count": 1,
   "metadata": {},
   "outputs": [],
   "source": [
    "#Dependencies\n",
    "import pandas as pd\n",
    "import numpy as py\n",
    "import matplotlib.pyplot as plt\n",
    "import sqlite3\n",
    "import sqlalchemy\n",
    "from sqlalchemy import create_engine"
   ]
  },
  {
   "cell_type": "code",
   "execution_count": 2,
   "metadata": {},
   "outputs": [],
   "source": [
    "#SQL Alchemy path \n",
    "database_path = \"Resources/fl_voter_data.sqlite\""
   ]
  },
  {
   "cell_type": "code",
   "execution_count": 3,
   "metadata": {},
   "outputs": [],
   "source": [
    "#SQL Alchemy Engine\n",
    "engine = create_engine(f'sqlite:///{database_path}', echo=False)"
   ]
  },
  {
   "cell_type": "code",
   "execution_count": 4,
   "metadata": {},
   "outputs": [
    {
     "data": {
      "text/plain": [
       "(834, 11)"
      ]
     },
     "execution_count": 4,
     "metadata": {},
     "output_type": "execute_result"
    }
   ],
   "source": [
    "flvd_df = pd.read_csv(\"Resources/fl_voter_data_2022.csv\")\n",
    "#Check initial dimensionality\n",
    "flvd_df.shape"
   ]
  },
  {
   "cell_type": "code",
   "execution_count": 5,
   "metadata": {},
   "outputs": [
    {
     "data": {
      "text/plain": [
       "(827, 11)"
      ]
     },
     "execution_count": 5,
     "metadata": {},
     "output_type": "execute_result"
    }
   ],
   "source": [
    "#Drop extranenous header rows created by an image at the top of the original excel.\n",
    "flvd_df=flvd_df.drop([0,1,2,3,4,5,6])\n",
    "#Recheck dimensionality\n",
    "flvd_df.shape"
   ]
  },
  {
   "cell_type": "code",
   "execution_count": 6,
   "metadata": {},
   "outputs": [
    {
     "name": "stdout",
     "output_type": "stream",
     "text": [
      "FLORIDA DEPARTMENT OF STATE\n",
      "Unnamed: 1\n",
      "Unnamed: 2\n",
      "Unnamed: 3\n",
      "Unnamed: 4\n",
      "Unnamed: 5\n",
      "Unnamed: 6\n",
      "Unnamed: 7\n",
      "Unnamed: 8\n",
      "Unnamed: 9\n",
      "Unnamed: 10\n"
     ]
    }
   ],
   "source": [
    "#Get column names for renaming:\n",
    "for col in flvd_df.columns:\n",
    "    print(col)"
   ]
  },
  {
   "cell_type": "code",
   "execution_count": 7,
   "metadata": {},
   "outputs": [
    {
     "name": "stdout",
     "output_type": "stream",
     "text": [
      "Party\n",
      "County_Name\n",
      "Native\n",
      "Asian\n",
      "Black\n",
      "Hispanic\n",
      "White\n",
      "Other\n",
      "Multi\n",
      "Unknown\n",
      "Total_Voters\n"
     ]
    }
   ],
   "source": [
    "#Rename columns\n",
    "flvd_df=flvd_df.rename(columns={\"FLORIDA DEPARTMENT OF STATE\": \"Party\",\n",
    "                       \"Unnamed: 1\": \"County_Name\",\n",
    "                       \"Unnamed: 2\": \"Native\",\n",
    "                       \"Unnamed: 3\": \"Asian\",\n",
    "                       \"Unnamed: 4\": \"Black\",         \n",
    "                       \"Unnamed: 5\": \"Hispanic\",\n",
    "                       \"Unnamed: 6\": \"White\",\n",
    "                       \"Unnamed: 7\": \"Other\",\n",
    "                       \"Unnamed: 8\": \"Multi\",\n",
    "                       \"Unnamed: 9\": \"Unknown\",\n",
    "                       \"Unnamed: 10\": \"Total_Voters\"\n",
    "                       })\n",
    "#Check column rename\n",
    "for col in flvd_df.columns:\n",
    "    print(col)"
   ]
  },
  {
   "cell_type": "markdown",
   "metadata": {},
   "source": [
    "# Eliminating null values"
   ]
  },
  {
   "cell_type": "code",
   "execution_count": 8,
   "metadata": {
    "scrolled": true
   },
   "outputs": [
    {
     "data": {
      "text/plain": [
       "(816, 11)"
      ]
     },
     "execution_count": 8,
     "metadata": {},
     "output_type": "execute_result"
    }
   ],
   "source": [
    "#Drop empty rows and check dimensionality\n",
    "flvd_df.dropna(inplace=True)\n",
    "flvd_df.shape"
   ]
  },
  {
   "cell_type": "code",
   "execution_count": 9,
   "metadata": {},
   "outputs": [
    {
     "data": {
      "text/plain": [
       "Party           0\n",
       "County_Name     0\n",
       "Native          0\n",
       "Asian           0\n",
       "Black           0\n",
       "Hispanic        0\n",
       "White           0\n",
       "Other           0\n",
       "Multi           0\n",
       "Unknown         0\n",
       "Total_Voters    0\n",
       "dtype: int64"
      ]
     },
     "execution_count": 9,
     "metadata": {},
     "output_type": "execute_result"
    }
   ],
   "source": [
    "#Confirm there are no null values\n",
    "flvd_df.isnull().sum()"
   ]
  },
  {
   "cell_type": "markdown",
   "metadata": {},
   "source": [
    "# Convert Columns to Usable Datatypes"
   ]
  },
  {
   "cell_type": "code",
   "execution_count": 10,
   "metadata": {},
   "outputs": [
    {
     "data": {
      "text/plain": [
       "Party           object\n",
       "County_Name     object\n",
       "Native          object\n",
       "Asian           object\n",
       "Black           object\n",
       "Hispanic        object\n",
       "White           object\n",
       "Other           object\n",
       "Multi           object\n",
       "Unknown         object\n",
       "Total_Voters    object\n",
       "dtype: object"
      ]
     },
     "execution_count": 10,
     "metadata": {},
     "output_type": "execute_result"
    }
   ],
   "source": [
    "#Check column datatypes\n",
    "flvd_df.dtypes"
   ]
  },
  {
   "cell_type": "code",
   "execution_count": 11,
   "metadata": {},
   "outputs": [],
   "source": [
    "#The Race/Ethniciy columns contain numeric data that was created as text that includes commas.\n",
    "#Remove commas\n",
    "flvd_df[['Native','Asian','Black','Hispanic','White','Other','Multi','Unknown','Total_Voters']] = flvd_df[['Native','Asian','Black','Hispanic','White','Other','Multi','Unknown','Total_Voters']].replace(',','', regex=True)\n",
    "#Change object columns to numeric\n",
    "flvd_df[['Native','Asian','Black','Hispanic','White','Other','Multi','Unknown','Total_Voters']] = flvd_df[['Native','Asian','Black','Hispanic','White','Other','Multi','Unknown','Total_Voters']].apply(pd.to_numeric)"
   ]
  },
  {
   "cell_type": "code",
   "execution_count": 12,
   "metadata": {},
   "outputs": [
    {
     "data": {
      "text/plain": [
       "Party           object\n",
       "County_Name     object\n",
       "Native           int64\n",
       "Asian            int64\n",
       "Black            int64\n",
       "Hispanic         int64\n",
       "White            int64\n",
       "Other            int64\n",
       "Multi            int64\n",
       "Unknown          int64\n",
       "Total_Voters     int64\n",
       "dtype: object"
      ]
     },
     "execution_count": 12,
     "metadata": {},
     "output_type": "execute_result"
    }
   ],
   "source": [
    "#Confirm changes to column datatypes\n",
    "flvd_df.dtypes"
   ]
  },
  {
   "cell_type": "markdown",
   "metadata": {},
   "source": [
    "# Inspect and Clean Object Datatype Columns"
   ]
  },
  {
   "cell_type": "markdown",
   "metadata": {},
   "source": [
    "### Clean County Names"
   ]
  },
  {
   "cell_type": "code",
   "execution_count": 13,
   "metadata": {},
   "outputs": [
    {
     "data": {
      "text/plain": [
       "array(['Alachua                  ', 'Baker                    ',\n",
       "       'Bay                      ', 'Bradford                 ',\n",
       "       'Brevard                  ', 'Broward                  ',\n",
       "       'Calhoun                  ', 'Charlotte                ',\n",
       "       'Citrus                   ', 'Clay                     ',\n",
       "       'Collier                  ', 'Columbia                 ',\n",
       "       'DeSoto                   ', 'Dixie                    ',\n",
       "       'Duval                    ', 'Escambia                 ',\n",
       "       'Flagler                  ', 'Franklin                 ',\n",
       "       'Gadsden                  ', 'Gilchrist                ',\n",
       "       'Glades                   ', 'Gulf                     ',\n",
       "       'Hamilton                 ', 'Hardee                   ',\n",
       "       'Hendry                   ', 'Hernando                 ',\n",
       "       'Highlands                ', 'Hillsborough             ',\n",
       "       'Holmes                   ', 'Indian River             ',\n",
       "       'Jackson                  ', 'Jefferson                ',\n",
       "       'Lafayette                ', 'Lake                     ',\n",
       "       'Lee                      ', 'Leon                     ',\n",
       "       'Levy                     ', 'Liberty                  ',\n",
       "       'Madison                  ', 'Manatee                  ',\n",
       "       'Marion                   ', 'Martin                   ',\n",
       "       'Miami-Dade               ', 'Monroe                   ',\n",
       "       'Nassau                   ', 'Okaloosa                 ',\n",
       "       'Okeechobee               ', 'Orange                   ',\n",
       "       'Osceola                  ', 'Palm Beach               ',\n",
       "       'Pasco                    ', 'Pinellas                 ',\n",
       "       'Polk                     ', 'Putnam                   ',\n",
       "       'Santa Rosa               ', 'Sarasota                 ',\n",
       "       'Seminole                 ', 'St. Johns                ',\n",
       "       'St. Lucie                ', 'Sumter                   ',\n",
       "       'Suwannee                 ', 'Taylor                   ',\n",
       "       'Union                    ', 'Volusia                  ',\n",
       "       'Wakulla                  ', 'Walton                   ',\n",
       "       'Washington               ', 'Total'], dtype=object)"
      ]
     },
     "execution_count": 13,
     "metadata": {},
     "output_type": "execute_result"
    }
   ],
   "source": [
    "#Inspect County Names\n",
    "flvd_df['County_Name'].unique()"
   ]
  },
  {
   "cell_type": "code",
   "execution_count": 14,
   "metadata": {},
   "outputs": [],
   "source": [
    "#Drop rows in 'County Name' where the name equals 'Total'\n",
    "#This is due to the orignial file contain Total rows for Partys.\n",
    "#Previous row check was 816\n",
    "totindx=flvd_df[flvd_df['County_Name']=='Total'].index\n",
    "flvd_df.drop(totindx, inplace=True)"
   ]
  },
  {
   "cell_type": "code",
   "execution_count": 15,
   "metadata": {},
   "outputs": [
    {
     "data": {
      "text/plain": [
       "12"
      ]
     },
     "execution_count": 15,
     "metadata": {},
     "output_type": "execute_result"
    }
   ],
   "source": [
    "#Count of unique party names\n",
    "flvd_df['Party'].nunique()"
   ]
  },
  {
   "cell_type": "code",
   "execution_count": 16,
   "metadata": {},
   "outputs": [
    {
     "data": {
      "text/plain": [
       "(804, 11)"
      ]
     },
     "execution_count": 16,
     "metadata": {},
     "output_type": "execute_result"
    }
   ],
   "source": [
    "#816 - 12 is 804 which should match in a new dimensionality check\n",
    "flvd_df.shape"
   ]
  },
  {
   "cell_type": "code",
   "execution_count": 17,
   "metadata": {},
   "outputs": [
    {
     "data": {
      "text/plain": [
       "67"
      ]
     },
     "execution_count": 17,
     "metadata": {},
     "output_type": "execute_result"
    }
   ],
   "source": [
    "# Per https://www2.census.gov/geo/pdfs/reference/GARM/Ch4GARM.pdf , the number of Florida counties is 67\n",
    "# This matches the return from nunique().\n",
    "flvd_df['County_Name'].nunique()"
   ]
  },
  {
   "cell_type": "markdown",
   "metadata": {},
   "source": [
    "### Clean Party Names"
   ]
  },
  {
   "cell_type": "code",
   "execution_count": 18,
   "metadata": {},
   "outputs": [
    {
     "data": {
      "text/plain": [
       "array(['Republican Party of Florida                                        ',\n",
       "       'Florida Democratic Party                                            ',\n",
       "       'Coalition With A Purpose Party', 'Constitution Party of Florida',\n",
       "       'Ecology Party of Florida',\n",
       "       'Green Party of Florida                 ',\n",
       "       'Independent Party of Florida', 'Libertarian Party of Florida',\n",
       "       'Party for Socialism and Liberation - Florida',\n",
       "       \"People's Party of Florida\", 'Reform Party of Florida',\n",
       "       'No Party Affiliation          '], dtype=object)"
      ]
     },
     "execution_count": 18,
     "metadata": {},
     "output_type": "execute_result"
    }
   ],
   "source": [
    "#Examine strings in 'Party' column\n",
    "flvd_df['Party'].unique()"
   ]
  },
  {
   "cell_type": "code",
   "execution_count": 19,
   "metadata": {},
   "outputs": [],
   "source": [
    "# Function to standarize 'Party' to \"REP\", \"DEM\", and \"UNA\"\n",
    "# 'UNA' will be used to sum the counts of all other political parties, including \"No affiliation\",\n",
    "# that are not Republican or Democrat.\n",
    "def rename_party(party):\n",
    "    #if party = Repub... then REP\n",
    "    if party =='Republican Party of Florida                                        ':\n",
    "        return \"REP\"\n",
    "    #elif party = Democ... then DEM\n",
    "    elif \"Democrat\" in party: \n",
    "        return \"DEM\"\n",
    "    #else then UNA\n",
    "    else:\n",
    "        return \"UNA\"\n",
    "#                                          apply(lambda x:rename_party(x))\n",
    "#.copy() is used to avoid a SettingWithCopyWarning\n",
    "flvd_df['Party'] = flvd_df['Party'].apply(lambda party:rename_party(party))\n",
    "#lambda \"says\" we are taking the value from a function and then .apply to the column\n",
    "#It's a way for a function to exist temporarily."
   ]
  },
  {
   "cell_type": "code",
   "execution_count": 20,
   "metadata": {},
   "outputs": [
    {
     "data": {
      "text/plain": [
       "array(['REP', 'DEM', 'UNA'], dtype=object)"
      ]
     },
     "execution_count": 20,
     "metadata": {},
     "output_type": "execute_result"
    }
   ],
   "source": [
    "#Confirm changes to data in 'Party' column\n",
    "flvd_df['Party'].unique()"
   ]
  },
  {
   "cell_type": "code",
   "execution_count": 21,
   "metadata": {},
   "outputs": [],
   "source": [
    "#Add a column for state and populate the column with 'FL' in each row.\n",
    "flvd_df['State']= 'FL'"
   ]
  },
  {
   "cell_type": "code",
   "execution_count": 22,
   "metadata": {},
   "outputs": [
    {
     "data": {
      "text/html": [
       "<div>\n",
       "<style scoped>\n",
       "    .dataframe tbody tr th:only-of-type {\n",
       "        vertical-align: middle;\n",
       "    }\n",
       "\n",
       "    .dataframe tbody tr th {\n",
       "        vertical-align: top;\n",
       "    }\n",
       "\n",
       "    .dataframe thead th {\n",
       "        text-align: right;\n",
       "    }\n",
       "</style>\n",
       "<table border=\"1\" class=\"dataframe\">\n",
       "  <thead>\n",
       "    <tr style=\"text-align: right;\">\n",
       "      <th></th>\n",
       "      <th>Party</th>\n",
       "      <th>County_Name</th>\n",
       "      <th>Native</th>\n",
       "      <th>Asian</th>\n",
       "      <th>Black</th>\n",
       "      <th>Hispanic</th>\n",
       "      <th>White</th>\n",
       "      <th>Other</th>\n",
       "      <th>Multi</th>\n",
       "      <th>Unknown</th>\n",
       "      <th>Total_Voters</th>\n",
       "      <th>State</th>\n",
       "    </tr>\n",
       "  </thead>\n",
       "  <tbody>\n",
       "    <tr>\n",
       "      <th>7</th>\n",
       "      <td>REP</td>\n",
       "      <td>Alachua</td>\n",
       "      <td>168</td>\n",
       "      <td>1071</td>\n",
       "      <td>968</td>\n",
       "      <td>2720</td>\n",
       "      <td>42176</td>\n",
       "      <td>1039</td>\n",
       "      <td>180</td>\n",
       "      <td>326</td>\n",
       "      <td>48648</td>\n",
       "      <td>FL</td>\n",
       "    </tr>\n",
       "    <tr>\n",
       "      <th>8</th>\n",
       "      <td>REP</td>\n",
       "      <td>Baker</td>\n",
       "      <td>57</td>\n",
       "      <td>56</td>\n",
       "      <td>72</td>\n",
       "      <td>130</td>\n",
       "      <td>10636</td>\n",
       "      <td>84</td>\n",
       "      <td>19</td>\n",
       "      <td>82</td>\n",
       "      <td>11136</td>\n",
       "      <td>FL</td>\n",
       "    </tr>\n",
       "    <tr>\n",
       "      <th>9</th>\n",
       "      <td>REP</td>\n",
       "      <td>Bay</td>\n",
       "      <td>311</td>\n",
       "      <td>945</td>\n",
       "      <td>581</td>\n",
       "      <td>1294</td>\n",
       "      <td>62423</td>\n",
       "      <td>570</td>\n",
       "      <td>123</td>\n",
       "      <td>929</td>\n",
       "      <td>67176</td>\n",
       "      <td>FL</td>\n",
       "    </tr>\n",
       "    <tr>\n",
       "      <th>10</th>\n",
       "      <td>REP</td>\n",
       "      <td>Bradford</td>\n",
       "      <td>35</td>\n",
       "      <td>39</td>\n",
       "      <td>95</td>\n",
       "      <td>113</td>\n",
       "      <td>9652</td>\n",
       "      <td>70</td>\n",
       "      <td>19</td>\n",
       "      <td>61</td>\n",
       "      <td>10084</td>\n",
       "      <td>FL</td>\n",
       "    </tr>\n",
       "    <tr>\n",
       "      <th>11</th>\n",
       "      <td>REP</td>\n",
       "      <td>Brevard</td>\n",
       "      <td>701</td>\n",
       "      <td>3070</td>\n",
       "      <td>1983</td>\n",
       "      <td>8660</td>\n",
       "      <td>176889</td>\n",
       "      <td>2262</td>\n",
       "      <td>506</td>\n",
       "      <td>1935</td>\n",
       "      <td>196006</td>\n",
       "      <td>FL</td>\n",
       "    </tr>\n",
       "    <tr>\n",
       "      <th>...</th>\n",
       "      <td>...</td>\n",
       "      <td>...</td>\n",
       "      <td>...</td>\n",
       "      <td>...</td>\n",
       "      <td>...</td>\n",
       "      <td>...</td>\n",
       "      <td>...</td>\n",
       "      <td>...</td>\n",
       "      <td>...</td>\n",
       "      <td>...</td>\n",
       "      <td>...</td>\n",
       "      <td>...</td>\n",
       "    </tr>\n",
       "    <tr>\n",
       "      <th>828</th>\n",
       "      <td>UNA</td>\n",
       "      <td>Union</td>\n",
       "      <td>8</td>\n",
       "      <td>5</td>\n",
       "      <td>53</td>\n",
       "      <td>34</td>\n",
       "      <td>631</td>\n",
       "      <td>9</td>\n",
       "      <td>6</td>\n",
       "      <td>28</td>\n",
       "      <td>774</td>\n",
       "      <td>FL</td>\n",
       "    </tr>\n",
       "    <tr>\n",
       "      <th>829</th>\n",
       "      <td>UNA</td>\n",
       "      <td>Volusia</td>\n",
       "      <td>380</td>\n",
       "      <td>2195</td>\n",
       "      <td>7469</td>\n",
       "      <td>16989</td>\n",
       "      <td>84288</td>\n",
       "      <td>2850</td>\n",
       "      <td>664</td>\n",
       "      <td>4100</td>\n",
       "      <td>118935</td>\n",
       "      <td>FL</td>\n",
       "    </tr>\n",
       "    <tr>\n",
       "      <th>830</th>\n",
       "      <td>UNA</td>\n",
       "      <td>Wakulla</td>\n",
       "      <td>21</td>\n",
       "      <td>37</td>\n",
       "      <td>275</td>\n",
       "      <td>103</td>\n",
       "      <td>3840</td>\n",
       "      <td>53</td>\n",
       "      <td>19</td>\n",
       "      <td>114</td>\n",
       "      <td>4462</td>\n",
       "      <td>FL</td>\n",
       "    </tr>\n",
       "    <tr>\n",
       "      <th>831</th>\n",
       "      <td>UNA</td>\n",
       "      <td>Walton</td>\n",
       "      <td>42</td>\n",
       "      <td>206</td>\n",
       "      <td>368</td>\n",
       "      <td>517</td>\n",
       "      <td>10567</td>\n",
       "      <td>192</td>\n",
       "      <td>42</td>\n",
       "      <td>367</td>\n",
       "      <td>12301</td>\n",
       "      <td>FL</td>\n",
       "    </tr>\n",
       "    <tr>\n",
       "      <th>832</th>\n",
       "      <td>UNA</td>\n",
       "      <td>Washington</td>\n",
       "      <td>22</td>\n",
       "      <td>30</td>\n",
       "      <td>178</td>\n",
       "      <td>75</td>\n",
       "      <td>2067</td>\n",
       "      <td>47</td>\n",
       "      <td>23</td>\n",
       "      <td>57</td>\n",
       "      <td>2499</td>\n",
       "      <td>FL</td>\n",
       "    </tr>\n",
       "  </tbody>\n",
       "</table>\n",
       "<p>804 rows × 12 columns</p>\n",
       "</div>"
      ],
      "text/plain": [
       "    Party                County_Name  Native  Asian  Black  Hispanic   White  \\\n",
       "7     REP  Alachua                       168   1071    968      2720   42176   \n",
       "8     REP  Baker                          57     56     72       130   10636   \n",
       "9     REP  Bay                           311    945    581      1294   62423   \n",
       "10    REP  Bradford                       35     39     95       113    9652   \n",
       "11    REP  Brevard                       701   3070   1983      8660  176889   \n",
       "..    ...                        ...     ...    ...    ...       ...     ...   \n",
       "828   UNA  Union                           8      5     53        34     631   \n",
       "829   UNA  Volusia                       380   2195   7469     16989   84288   \n",
       "830   UNA  Wakulla                        21     37    275       103    3840   \n",
       "831   UNA  Walton                         42    206    368       517   10567   \n",
       "832   UNA  Washington                     22     30    178        75    2067   \n",
       "\n",
       "     Other  Multi  Unknown  Total_Voters State  \n",
       "7     1039    180      326         48648    FL  \n",
       "8       84     19       82         11136    FL  \n",
       "9      570    123      929         67176    FL  \n",
       "10      70     19       61         10084    FL  \n",
       "11    2262    506     1935        196006    FL  \n",
       "..     ...    ...      ...           ...   ...  \n",
       "828      9      6       28           774    FL  \n",
       "829   2850    664     4100        118935    FL  \n",
       "830     53     19      114          4462    FL  \n",
       "831    192     42      367         12301    FL  \n",
       "832     47     23       57          2499    FL  \n",
       "\n",
       "[804 rows x 12 columns]"
      ]
     },
     "execution_count": 22,
     "metadata": {},
     "output_type": "execute_result"
    }
   ],
   "source": [
    "#Examine dataframe\n",
    "flvd_df"
   ]
  },
  {
   "cell_type": "code",
   "execution_count": 23,
   "metadata": {},
   "outputs": [],
   "source": [
    "#Reset Dataframe index\n",
    "flvd_df.reset_index(drop=True, inplace=True)\n"
   ]
  },
  {
   "cell_type": "code",
   "execution_count": 24,
   "metadata": {},
   "outputs": [],
   "source": [
    "flvd_df.index = flvd_df.index + 1"
   ]
  },
  {
   "cell_type": "code",
   "execution_count": 25,
   "metadata": {
    "scrolled": true
   },
   "outputs": [
    {
     "data": {
      "text/html": [
       "<div>\n",
       "<style scoped>\n",
       "    .dataframe tbody tr th:only-of-type {\n",
       "        vertical-align: middle;\n",
       "    }\n",
       "\n",
       "    .dataframe tbody tr th {\n",
       "        vertical-align: top;\n",
       "    }\n",
       "\n",
       "    .dataframe thead th {\n",
       "        text-align: right;\n",
       "    }\n",
       "</style>\n",
       "<table border=\"1\" class=\"dataframe\">\n",
       "  <thead>\n",
       "    <tr style=\"text-align: right;\">\n",
       "      <th></th>\n",
       "      <th>Party</th>\n",
       "      <th>County_Name</th>\n",
       "      <th>Native</th>\n",
       "      <th>Asian</th>\n",
       "      <th>Black</th>\n",
       "      <th>Hispanic</th>\n",
       "      <th>White</th>\n",
       "      <th>Other</th>\n",
       "      <th>Multi</th>\n",
       "      <th>Unknown</th>\n",
       "      <th>Total_Voters</th>\n",
       "      <th>State</th>\n",
       "    </tr>\n",
       "  </thead>\n",
       "  <tbody>\n",
       "    <tr>\n",
       "      <th>1</th>\n",
       "      <td>REP</td>\n",
       "      <td>Alachua</td>\n",
       "      <td>168</td>\n",
       "      <td>1071</td>\n",
       "      <td>968</td>\n",
       "      <td>2720</td>\n",
       "      <td>42176</td>\n",
       "      <td>1039</td>\n",
       "      <td>180</td>\n",
       "      <td>326</td>\n",
       "      <td>48648</td>\n",
       "      <td>FL</td>\n",
       "    </tr>\n",
       "    <tr>\n",
       "      <th>2</th>\n",
       "      <td>REP</td>\n",
       "      <td>Baker</td>\n",
       "      <td>57</td>\n",
       "      <td>56</td>\n",
       "      <td>72</td>\n",
       "      <td>130</td>\n",
       "      <td>10636</td>\n",
       "      <td>84</td>\n",
       "      <td>19</td>\n",
       "      <td>82</td>\n",
       "      <td>11136</td>\n",
       "      <td>FL</td>\n",
       "    </tr>\n",
       "    <tr>\n",
       "      <th>3</th>\n",
       "      <td>REP</td>\n",
       "      <td>Bay</td>\n",
       "      <td>311</td>\n",
       "      <td>945</td>\n",
       "      <td>581</td>\n",
       "      <td>1294</td>\n",
       "      <td>62423</td>\n",
       "      <td>570</td>\n",
       "      <td>123</td>\n",
       "      <td>929</td>\n",
       "      <td>67176</td>\n",
       "      <td>FL</td>\n",
       "    </tr>\n",
       "    <tr>\n",
       "      <th>4</th>\n",
       "      <td>REP</td>\n",
       "      <td>Bradford</td>\n",
       "      <td>35</td>\n",
       "      <td>39</td>\n",
       "      <td>95</td>\n",
       "      <td>113</td>\n",
       "      <td>9652</td>\n",
       "      <td>70</td>\n",
       "      <td>19</td>\n",
       "      <td>61</td>\n",
       "      <td>10084</td>\n",
       "      <td>FL</td>\n",
       "    </tr>\n",
       "    <tr>\n",
       "      <th>5</th>\n",
       "      <td>REP</td>\n",
       "      <td>Brevard</td>\n",
       "      <td>701</td>\n",
       "      <td>3070</td>\n",
       "      <td>1983</td>\n",
       "      <td>8660</td>\n",
       "      <td>176889</td>\n",
       "      <td>2262</td>\n",
       "      <td>506</td>\n",
       "      <td>1935</td>\n",
       "      <td>196006</td>\n",
       "      <td>FL</td>\n",
       "    </tr>\n",
       "  </tbody>\n",
       "</table>\n",
       "</div>"
      ],
      "text/plain": [
       "  Party                County_Name  Native  Asian  Black  Hispanic   White  \\\n",
       "1   REP  Alachua                       168   1071    968      2720   42176   \n",
       "2   REP  Baker                          57     56     72       130   10636   \n",
       "3   REP  Bay                           311    945    581      1294   62423   \n",
       "4   REP  Bradford                       35     39     95       113    9652   \n",
       "5   REP  Brevard                       701   3070   1983      8660  176889   \n",
       "\n",
       "   Other  Multi  Unknown  Total_Voters State  \n",
       "1   1039    180      326         48648    FL  \n",
       "2     84     19       82         11136    FL  \n",
       "3    570    123      929         67176    FL  \n",
       "4     70     19       61         10084    FL  \n",
       "5   2262    506     1935        196006    FL  "
      ]
     },
     "execution_count": 25,
     "metadata": {},
     "output_type": "execute_result"
    }
   ],
   "source": [
    "#Confirm index starts at 1\n",
    "flvd_df.head(5)"
   ]
  },
  {
   "cell_type": "code",
   "execution_count": 26,
   "metadata": {},
   "outputs": [
    {
     "data": {
      "text/plain": [
       "County_Name\n",
       "Miami-Dade                   1529401\n",
       "Broward                      1252774\n",
       "Palm Beach                   1003667\n",
       "Hillsborough                  924891\n",
       "Orange                        870296\n",
       "                              ...   \n",
       "Hamilton                        7846\n",
       "Union                           7643\n",
       "Glades                          6959\n",
       "Lafayette                       4544\n",
       "Liberty                         4452\n",
       "Name: Total_Voters, Length: 67, dtype: int64"
      ]
     },
     "execution_count": 26,
     "metadata": {},
     "output_type": "execute_result"
    }
   ],
   "source": [
    "#Confirm dataframe is working with some light analysis: County_Name\n",
    "votes_by_county = flvd_df.groupby('County_Name')['Total_Voters'].sum().sort_values(ascending=False)\n",
    "votes_by_county"
   ]
  },
  {
   "cell_type": "code",
   "execution_count": 27,
   "metadata": {},
   "outputs": [
    {
     "data": {
      "text/plain": [
       "Party\n",
       "REP    5277394\n",
       "DEM    4971444\n",
       "UNA    4255140\n",
       "Name: Total_Voters, dtype: int64"
      ]
     },
     "execution_count": 27,
     "metadata": {},
     "output_type": "execute_result"
    }
   ],
   "source": [
    "#Confirm dataframe is working with some light analysis: Party\n",
    "votes_by_county = flvd_df.groupby('Party')['Total_Voters'].sum().sort_values(ascending=False)\n",
    "votes_by_county"
   ]
  },
  {
   "cell_type": "code",
   "execution_count": 28,
   "metadata": {},
   "outputs": [
    {
     "data": {
      "text/plain": [
       "804"
      ]
     },
     "execution_count": 28,
     "metadata": {},
     "output_type": "execute_result"
    }
   ],
   "source": [
    "#Convert dataframe to SQL table\n",
    "#database_path = \"Resources/fl_voter_data.sqlite\"\n",
    "flvd_df.to_sql('Resources/FL_Voters', con=engine, if_exists='replace')"
   ]
  },
  {
   "cell_type": "code",
   "execution_count": 31,
   "metadata": {},
   "outputs": [
    {
     "ename": "OperationalError",
     "evalue": "(sqlite3.OperationalError) no such table: FL_Voters\n[SQL: SELECT * FROM FL_Voters]\n(Background on this error at: https://sqlalche.me/e/14/e3q8)",
     "output_type": "error",
     "traceback": [
      "\u001b[0;31m---------------------------------------------------------------------------\u001b[0m",
      "\u001b[0;31mOperationalError\u001b[0m                          Traceback (most recent call last)",
      "File \u001b[0;32m/opt/anaconda3/envs/pythondata/lib/python3.10/site-packages/sqlalchemy/engine/base.py:1900\u001b[0m, in \u001b[0;36mConnection._execute_context\u001b[0;34m(self, dialect, constructor, statement, parameters, execution_options, *args, **kw)\u001b[0m\n\u001b[1;32m   1899\u001b[0m     \u001b[38;5;28;01mif\u001b[39;00m \u001b[38;5;129;01mnot\u001b[39;00m evt_handled:\n\u001b[0;32m-> 1900\u001b[0m         \u001b[38;5;28;43mself\u001b[39;49m\u001b[38;5;241;43m.\u001b[39;49m\u001b[43mdialect\u001b[49m\u001b[38;5;241;43m.\u001b[39;49m\u001b[43mdo_execute\u001b[49m\u001b[43m(\u001b[49m\n\u001b[1;32m   1901\u001b[0m \u001b[43m            \u001b[49m\u001b[43mcursor\u001b[49m\u001b[43m,\u001b[49m\u001b[43m \u001b[49m\u001b[43mstatement\u001b[49m\u001b[43m,\u001b[49m\u001b[43m \u001b[49m\u001b[43mparameters\u001b[49m\u001b[43m,\u001b[49m\u001b[43m \u001b[49m\u001b[43mcontext\u001b[49m\n\u001b[1;32m   1902\u001b[0m \u001b[43m        \u001b[49m\u001b[43m)\u001b[49m\n\u001b[1;32m   1904\u001b[0m \u001b[38;5;28;01mif\u001b[39;00m \u001b[38;5;28mself\u001b[39m\u001b[38;5;241m.\u001b[39m_has_events \u001b[38;5;129;01mor\u001b[39;00m \u001b[38;5;28mself\u001b[39m\u001b[38;5;241m.\u001b[39mengine\u001b[38;5;241m.\u001b[39m_has_events:\n",
      "File \u001b[0;32m/opt/anaconda3/envs/pythondata/lib/python3.10/site-packages/sqlalchemy/engine/default.py:736\u001b[0m, in \u001b[0;36mDefaultDialect.do_execute\u001b[0;34m(self, cursor, statement, parameters, context)\u001b[0m\n\u001b[1;32m    735\u001b[0m \u001b[38;5;28;01mdef\u001b[39;00m \u001b[38;5;21mdo_execute\u001b[39m(\u001b[38;5;28mself\u001b[39m, cursor, statement, parameters, context\u001b[38;5;241m=\u001b[39m\u001b[38;5;28;01mNone\u001b[39;00m):\n\u001b[0;32m--> 736\u001b[0m     \u001b[43mcursor\u001b[49m\u001b[38;5;241;43m.\u001b[39;49m\u001b[43mexecute\u001b[49m\u001b[43m(\u001b[49m\u001b[43mstatement\u001b[49m\u001b[43m,\u001b[49m\u001b[43m \u001b[49m\u001b[43mparameters\u001b[49m\u001b[43m)\u001b[49m\n",
      "\u001b[0;31mOperationalError\u001b[0m: no such table: FL_Voters",
      "\nThe above exception was the direct cause of the following exception:\n",
      "\u001b[0;31mOperationalError\u001b[0m                          Traceback (most recent call last)",
      "Cell \u001b[0;32mIn [31], line 2\u001b[0m\n\u001b[1;32m      1\u001b[0m \u001b[38;5;66;03m#Examine SQL Table\u001b[39;00m\n\u001b[0;32m----> 2\u001b[0m SQLtable \u001b[38;5;241m=\u001b[39m \u001b[43mengine\u001b[49m\u001b[38;5;241;43m.\u001b[39;49m\u001b[43mexecute\u001b[49m\u001b[43m(\u001b[49m\u001b[38;5;124;43m\"\u001b[39;49m\u001b[38;5;124;43mSELECT * FROM FL_Voters\u001b[39;49m\u001b[38;5;124;43m\"\u001b[39;49m\u001b[43m)\u001b[49m\n\u001b[1;32m      3\u001b[0m \u001b[38;5;28;01mfor\u001b[39;00m record \u001b[38;5;129;01min\u001b[39;00m SQLtable:\n\u001b[1;32m      4\u001b[0m     \u001b[38;5;28mprint\u001b[39m(record)\n",
      "File \u001b[0;32m<string>:2\u001b[0m, in \u001b[0;36mexecute\u001b[0;34m(self, statement, *multiparams, **params)\u001b[0m\n",
      "File \u001b[0;32m/opt/anaconda3/envs/pythondata/lib/python3.10/site-packages/sqlalchemy/util/deprecations.py:402\u001b[0m, in \u001b[0;36m_decorate_with_warning.<locals>.warned\u001b[0;34m(fn, *args, **kwargs)\u001b[0m\n\u001b[1;32m    400\u001b[0m \u001b[38;5;28;01mif\u001b[39;00m \u001b[38;5;129;01mnot\u001b[39;00m skip_warning:\n\u001b[1;32m    401\u001b[0m     _warn_with_version(message, version, wtype, stacklevel\u001b[38;5;241m=\u001b[39m\u001b[38;5;241m3\u001b[39m)\n\u001b[0;32m--> 402\u001b[0m \u001b[38;5;28;01mreturn\u001b[39;00m \u001b[43mfn\u001b[49m\u001b[43m(\u001b[49m\u001b[38;5;241;43m*\u001b[39;49m\u001b[43margs\u001b[49m\u001b[43m,\u001b[49m\u001b[43m \u001b[49m\u001b[38;5;241;43m*\u001b[39;49m\u001b[38;5;241;43m*\u001b[39;49m\u001b[43mkwargs\u001b[49m\u001b[43m)\u001b[49m\n",
      "File \u001b[0;32m/opt/anaconda3/envs/pythondata/lib/python3.10/site-packages/sqlalchemy/engine/base.py:3257\u001b[0m, in \u001b[0;36mEngine.execute\u001b[0;34m(self, statement, *multiparams, **params)\u001b[0m\n\u001b[1;32m   3239\u001b[0m \u001b[38;5;124;03m\"\"\"Executes the given construct and returns a\u001b[39;00m\n\u001b[1;32m   3240\u001b[0m \u001b[38;5;124;03m:class:`_engine.CursorResult`.\u001b[39;00m\n\u001b[1;32m   3241\u001b[0m \n\u001b[0;32m   (...)\u001b[0m\n\u001b[1;32m   3254\u001b[0m \n\u001b[1;32m   3255\u001b[0m \u001b[38;5;124;03m\"\"\"\u001b[39;00m\n\u001b[1;32m   3256\u001b[0m connection \u001b[38;5;241m=\u001b[39m \u001b[38;5;28mself\u001b[39m\u001b[38;5;241m.\u001b[39mconnect(close_with_result\u001b[38;5;241m=\u001b[39m\u001b[38;5;28;01mTrue\u001b[39;00m)\n\u001b[0;32m-> 3257\u001b[0m \u001b[38;5;28;01mreturn\u001b[39;00m \u001b[43mconnection\u001b[49m\u001b[38;5;241;43m.\u001b[39;49m\u001b[43mexecute\u001b[49m\u001b[43m(\u001b[49m\u001b[43mstatement\u001b[49m\u001b[43m,\u001b[49m\u001b[43m \u001b[49m\u001b[38;5;241;43m*\u001b[39;49m\u001b[43mmultiparams\u001b[49m\u001b[43m,\u001b[49m\u001b[43m \u001b[49m\u001b[38;5;241;43m*\u001b[39;49m\u001b[38;5;241;43m*\u001b[39;49m\u001b[43mparams\u001b[49m\u001b[43m)\u001b[49m\n",
      "File \u001b[0;32m/opt/anaconda3/envs/pythondata/lib/python3.10/site-packages/sqlalchemy/engine/base.py:1365\u001b[0m, in \u001b[0;36mConnection.execute\u001b[0;34m(self, statement, *multiparams, **params)\u001b[0m\n\u001b[1;32m   1356\u001b[0m \u001b[38;5;28;01mif\u001b[39;00m \u001b[38;5;28misinstance\u001b[39m(statement, util\u001b[38;5;241m.\u001b[39mstring_types):\n\u001b[1;32m   1357\u001b[0m     util\u001b[38;5;241m.\u001b[39mwarn_deprecated_20(\n\u001b[1;32m   1358\u001b[0m         \u001b[38;5;124m\"\u001b[39m\u001b[38;5;124mPassing a string to Connection.execute() is \u001b[39m\u001b[38;5;124m\"\u001b[39m\n\u001b[1;32m   1359\u001b[0m         \u001b[38;5;124m\"\u001b[39m\u001b[38;5;124mdeprecated and will be removed in version 2.0.  Use the \u001b[39m\u001b[38;5;124m\"\u001b[39m\n\u001b[0;32m   (...)\u001b[0m\n\u001b[1;32m   1362\u001b[0m         \u001b[38;5;124m\"\u001b[39m\u001b[38;5;124mdriver-level SQL string.\u001b[39m\u001b[38;5;124m\"\u001b[39m\n\u001b[1;32m   1363\u001b[0m     )\n\u001b[0;32m-> 1365\u001b[0m     \u001b[38;5;28;01mreturn\u001b[39;00m \u001b[38;5;28;43mself\u001b[39;49m\u001b[38;5;241;43m.\u001b[39;49m\u001b[43m_exec_driver_sql\u001b[49m\u001b[43m(\u001b[49m\n\u001b[1;32m   1366\u001b[0m \u001b[43m        \u001b[49m\u001b[43mstatement\u001b[49m\u001b[43m,\u001b[49m\n\u001b[1;32m   1367\u001b[0m \u001b[43m        \u001b[49m\u001b[43mmultiparams\u001b[49m\u001b[43m,\u001b[49m\n\u001b[1;32m   1368\u001b[0m \u001b[43m        \u001b[49m\u001b[43mparams\u001b[49m\u001b[43m,\u001b[49m\n\u001b[1;32m   1369\u001b[0m \u001b[43m        \u001b[49m\u001b[43m_EMPTY_EXECUTION_OPTS\u001b[49m\u001b[43m,\u001b[49m\n\u001b[1;32m   1370\u001b[0m \u001b[43m        \u001b[49m\u001b[43mfuture\u001b[49m\u001b[38;5;241;43m=\u001b[39;49m\u001b[38;5;28;43;01mFalse\u001b[39;49;00m\u001b[43m,\u001b[49m\n\u001b[1;32m   1371\u001b[0m \u001b[43m    \u001b[49m\u001b[43m)\u001b[49m\n\u001b[1;32m   1373\u001b[0m \u001b[38;5;28;01mtry\u001b[39;00m:\n\u001b[1;32m   1374\u001b[0m     meth \u001b[38;5;241m=\u001b[39m statement\u001b[38;5;241m.\u001b[39m_execute_on_connection\n",
      "File \u001b[0;32m/opt/anaconda3/envs/pythondata/lib/python3.10/site-packages/sqlalchemy/engine/base.py:1669\u001b[0m, in \u001b[0;36mConnection._exec_driver_sql\u001b[0;34m(self, statement, multiparams, params, execution_options, future)\u001b[0m\n\u001b[1;32m   1659\u001b[0m         (\n\u001b[1;32m   1660\u001b[0m             statement,\n\u001b[1;32m   1661\u001b[0m             distilled_params,\n\u001b[0;32m   (...)\u001b[0m\n\u001b[1;32m   1665\u001b[0m             statement, distilled_parameters, execution_options\n\u001b[1;32m   1666\u001b[0m         )\n\u001b[1;32m   1668\u001b[0m dialect \u001b[38;5;241m=\u001b[39m \u001b[38;5;28mself\u001b[39m\u001b[38;5;241m.\u001b[39mdialect\n\u001b[0;32m-> 1669\u001b[0m ret \u001b[38;5;241m=\u001b[39m \u001b[38;5;28;43mself\u001b[39;49m\u001b[38;5;241;43m.\u001b[39;49m\u001b[43m_execute_context\u001b[49m\u001b[43m(\u001b[49m\n\u001b[1;32m   1670\u001b[0m \u001b[43m    \u001b[49m\u001b[43mdialect\u001b[49m\u001b[43m,\u001b[49m\n\u001b[1;32m   1671\u001b[0m \u001b[43m    \u001b[49m\u001b[43mdialect\u001b[49m\u001b[38;5;241;43m.\u001b[39;49m\u001b[43mexecution_ctx_cls\u001b[49m\u001b[38;5;241;43m.\u001b[39;49m\u001b[43m_init_statement\u001b[49m\u001b[43m,\u001b[49m\n\u001b[1;32m   1672\u001b[0m \u001b[43m    \u001b[49m\u001b[43mstatement\u001b[49m\u001b[43m,\u001b[49m\n\u001b[1;32m   1673\u001b[0m \u001b[43m    \u001b[49m\u001b[43mdistilled_parameters\u001b[49m\u001b[43m,\u001b[49m\n\u001b[1;32m   1674\u001b[0m \u001b[43m    \u001b[49m\u001b[43mexecution_options\u001b[49m\u001b[43m,\u001b[49m\n\u001b[1;32m   1675\u001b[0m \u001b[43m    \u001b[49m\u001b[43mstatement\u001b[49m\u001b[43m,\u001b[49m\n\u001b[1;32m   1676\u001b[0m \u001b[43m    \u001b[49m\u001b[43mdistilled_parameters\u001b[49m\u001b[43m,\u001b[49m\n\u001b[1;32m   1677\u001b[0m \u001b[43m\u001b[49m\u001b[43m)\u001b[49m\n\u001b[1;32m   1679\u001b[0m \u001b[38;5;28;01mif\u001b[39;00m \u001b[38;5;129;01mnot\u001b[39;00m future:\n\u001b[1;32m   1680\u001b[0m     \u001b[38;5;28;01mif\u001b[39;00m \u001b[38;5;28mself\u001b[39m\u001b[38;5;241m.\u001b[39m_has_events \u001b[38;5;129;01mor\u001b[39;00m \u001b[38;5;28mself\u001b[39m\u001b[38;5;241m.\u001b[39mengine\u001b[38;5;241m.\u001b[39m_has_events:\n",
      "File \u001b[0;32m/opt/anaconda3/envs/pythondata/lib/python3.10/site-packages/sqlalchemy/engine/base.py:1943\u001b[0m, in \u001b[0;36mConnection._execute_context\u001b[0;34m(self, dialect, constructor, statement, parameters, execution_options, *args, **kw)\u001b[0m\n\u001b[1;32m   1940\u001b[0m             branched\u001b[38;5;241m.\u001b[39mclose()\n\u001b[1;32m   1942\u001b[0m \u001b[38;5;28;01mexcept\u001b[39;00m \u001b[38;5;167;01mBaseException\u001b[39;00m \u001b[38;5;28;01mas\u001b[39;00m e:\n\u001b[0;32m-> 1943\u001b[0m     \u001b[38;5;28;43mself\u001b[39;49m\u001b[38;5;241;43m.\u001b[39;49m\u001b[43m_handle_dbapi_exception\u001b[49m\u001b[43m(\u001b[49m\n\u001b[1;32m   1944\u001b[0m \u001b[43m        \u001b[49m\u001b[43me\u001b[49m\u001b[43m,\u001b[49m\u001b[43m \u001b[49m\u001b[43mstatement\u001b[49m\u001b[43m,\u001b[49m\u001b[43m \u001b[49m\u001b[43mparameters\u001b[49m\u001b[43m,\u001b[49m\u001b[43m \u001b[49m\u001b[43mcursor\u001b[49m\u001b[43m,\u001b[49m\u001b[43m \u001b[49m\u001b[43mcontext\u001b[49m\n\u001b[1;32m   1945\u001b[0m \u001b[43m    \u001b[49m\u001b[43m)\u001b[49m\n\u001b[1;32m   1947\u001b[0m \u001b[38;5;28;01mreturn\u001b[39;00m result\n",
      "File \u001b[0;32m/opt/anaconda3/envs/pythondata/lib/python3.10/site-packages/sqlalchemy/engine/base.py:2124\u001b[0m, in \u001b[0;36mConnection._handle_dbapi_exception\u001b[0;34m(self, e, statement, parameters, cursor, context)\u001b[0m\n\u001b[1;32m   2122\u001b[0m     util\u001b[38;5;241m.\u001b[39mraise_(newraise, with_traceback\u001b[38;5;241m=\u001b[39mexc_info[\u001b[38;5;241m2\u001b[39m], from_\u001b[38;5;241m=\u001b[39me)\n\u001b[1;32m   2123\u001b[0m \u001b[38;5;28;01melif\u001b[39;00m should_wrap:\n\u001b[0;32m-> 2124\u001b[0m     \u001b[43mutil\u001b[49m\u001b[38;5;241;43m.\u001b[39;49m\u001b[43mraise_\u001b[49m\u001b[43m(\u001b[49m\n\u001b[1;32m   2125\u001b[0m \u001b[43m        \u001b[49m\u001b[43msqlalchemy_exception\u001b[49m\u001b[43m,\u001b[49m\u001b[43m \u001b[49m\u001b[43mwith_traceback\u001b[49m\u001b[38;5;241;43m=\u001b[39;49m\u001b[43mexc_info\u001b[49m\u001b[43m[\u001b[49m\u001b[38;5;241;43m2\u001b[39;49m\u001b[43m]\u001b[49m\u001b[43m,\u001b[49m\u001b[43m \u001b[49m\u001b[43mfrom_\u001b[49m\u001b[38;5;241;43m=\u001b[39;49m\u001b[43me\u001b[49m\n\u001b[1;32m   2126\u001b[0m \u001b[43m    \u001b[49m\u001b[43m)\u001b[49m\n\u001b[1;32m   2127\u001b[0m \u001b[38;5;28;01melse\u001b[39;00m:\n\u001b[1;32m   2128\u001b[0m     util\u001b[38;5;241m.\u001b[39mraise_(exc_info[\u001b[38;5;241m1\u001b[39m], with_traceback\u001b[38;5;241m=\u001b[39mexc_info[\u001b[38;5;241m2\u001b[39m])\n",
      "File \u001b[0;32m/opt/anaconda3/envs/pythondata/lib/python3.10/site-packages/sqlalchemy/util/compat.py:210\u001b[0m, in \u001b[0;36mraise_\u001b[0;34m(***failed resolving arguments***)\u001b[0m\n\u001b[1;32m    207\u001b[0m     exception\u001b[38;5;241m.\u001b[39m__cause__ \u001b[38;5;241m=\u001b[39m replace_context\n\u001b[1;32m    209\u001b[0m \u001b[38;5;28;01mtry\u001b[39;00m:\n\u001b[0;32m--> 210\u001b[0m     \u001b[38;5;28;01mraise\u001b[39;00m exception\n\u001b[1;32m    211\u001b[0m \u001b[38;5;28;01mfinally\u001b[39;00m:\n\u001b[1;32m    212\u001b[0m     \u001b[38;5;66;03m# credit to\u001b[39;00m\n\u001b[1;32m    213\u001b[0m     \u001b[38;5;66;03m# https://cosmicpercolator.com/2016/01/13/exception-leaks-in-python-2-and-3/\u001b[39;00m\n\u001b[1;32m    214\u001b[0m     \u001b[38;5;66;03m# as the __traceback__ object creates a cycle\u001b[39;00m\n\u001b[1;32m    215\u001b[0m     \u001b[38;5;28;01mdel\u001b[39;00m exception, replace_context, from_, with_traceback\n",
      "File \u001b[0;32m/opt/anaconda3/envs/pythondata/lib/python3.10/site-packages/sqlalchemy/engine/base.py:1900\u001b[0m, in \u001b[0;36mConnection._execute_context\u001b[0;34m(self, dialect, constructor, statement, parameters, execution_options, *args, **kw)\u001b[0m\n\u001b[1;32m   1898\u001b[0m                 \u001b[38;5;28;01mbreak\u001b[39;00m\n\u001b[1;32m   1899\u001b[0m     \u001b[38;5;28;01mif\u001b[39;00m \u001b[38;5;129;01mnot\u001b[39;00m evt_handled:\n\u001b[0;32m-> 1900\u001b[0m         \u001b[38;5;28;43mself\u001b[39;49m\u001b[38;5;241;43m.\u001b[39;49m\u001b[43mdialect\u001b[49m\u001b[38;5;241;43m.\u001b[39;49m\u001b[43mdo_execute\u001b[49m\u001b[43m(\u001b[49m\n\u001b[1;32m   1901\u001b[0m \u001b[43m            \u001b[49m\u001b[43mcursor\u001b[49m\u001b[43m,\u001b[49m\u001b[43m \u001b[49m\u001b[43mstatement\u001b[49m\u001b[43m,\u001b[49m\u001b[43m \u001b[49m\u001b[43mparameters\u001b[49m\u001b[43m,\u001b[49m\u001b[43m \u001b[49m\u001b[43mcontext\u001b[49m\n\u001b[1;32m   1902\u001b[0m \u001b[43m        \u001b[49m\u001b[43m)\u001b[49m\n\u001b[1;32m   1904\u001b[0m \u001b[38;5;28;01mif\u001b[39;00m \u001b[38;5;28mself\u001b[39m\u001b[38;5;241m.\u001b[39m_has_events \u001b[38;5;129;01mor\u001b[39;00m \u001b[38;5;28mself\u001b[39m\u001b[38;5;241m.\u001b[39mengine\u001b[38;5;241m.\u001b[39m_has_events:\n\u001b[1;32m   1905\u001b[0m     \u001b[38;5;28mself\u001b[39m\u001b[38;5;241m.\u001b[39mdispatch\u001b[38;5;241m.\u001b[39mafter_cursor_execute(\n\u001b[1;32m   1906\u001b[0m         \u001b[38;5;28mself\u001b[39m,\n\u001b[1;32m   1907\u001b[0m         cursor,\n\u001b[0;32m   (...)\u001b[0m\n\u001b[1;32m   1911\u001b[0m         context\u001b[38;5;241m.\u001b[39mexecutemany,\n\u001b[1;32m   1912\u001b[0m     )\n",
      "File \u001b[0;32m/opt/anaconda3/envs/pythondata/lib/python3.10/site-packages/sqlalchemy/engine/default.py:736\u001b[0m, in \u001b[0;36mDefaultDialect.do_execute\u001b[0;34m(self, cursor, statement, parameters, context)\u001b[0m\n\u001b[1;32m    735\u001b[0m \u001b[38;5;28;01mdef\u001b[39;00m \u001b[38;5;21mdo_execute\u001b[39m(\u001b[38;5;28mself\u001b[39m, cursor, statement, parameters, context\u001b[38;5;241m=\u001b[39m\u001b[38;5;28;01mNone\u001b[39;00m):\n\u001b[0;32m--> 736\u001b[0m     \u001b[43mcursor\u001b[49m\u001b[38;5;241;43m.\u001b[39;49m\u001b[43mexecute\u001b[49m\u001b[43m(\u001b[49m\u001b[43mstatement\u001b[49m\u001b[43m,\u001b[49m\u001b[43m \u001b[49m\u001b[43mparameters\u001b[49m\u001b[43m)\u001b[49m\n",
      "\u001b[0;31mOperationalError\u001b[0m: (sqlite3.OperationalError) no such table: FL_Voters\n[SQL: SELECT * FROM FL_Voters]\n(Background on this error at: https://sqlalche.me/e/14/e3q8)"
     ]
    }
   ],
   "source": [
    "#Examine SQL Table\n",
    "SQLtable = engine.execute(\"SELECT * FROM FL_Voters\")\n",
    "for rows in SQLtable:\n",
    "    print(rows)"
   ]
  },
  {
   "cell_type": "code",
   "execution_count": null,
   "metadata": {},
   "outputs": [],
   "source": [
    "flvd_df2.to_csv(\"db_output/ETL_FL_voterdata_clean.csv\")"
   ]
  },
  {
   "cell_type": "code",
   "execution_count": null,
   "metadata": {},
   "outputs": [],
   "source": []
  }
 ],
 "metadata": {
  "kernelspec": {
   "display_name": "PythonData",
   "language": "python",
   "name": "pythondata"
  },
  "language_info": {
   "codemirror_mode": {
    "name": "ipython",
    "version": 3
   },
   "file_extension": ".py",
   "mimetype": "text/x-python",
   "name": "python",
   "nbconvert_exporter": "python",
   "pygments_lexer": "ipython3",
   "version": "3.10.8"
  }
 },
 "nbformat": 4,
 "nbformat_minor": 2
}
