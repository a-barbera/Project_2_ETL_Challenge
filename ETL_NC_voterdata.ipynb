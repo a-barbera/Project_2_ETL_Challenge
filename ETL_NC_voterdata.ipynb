{
 "cells": [
  {
   "cell_type": "code",
   "execution_count": 1,
   "id": "f032574e",
   "metadata": {},
   "outputs": [],
   "source": [
    "#Import dependencies\n",
    "import pandas as pd\n",
    "import matplotlib.pyplot as plt\n",
    "import psycopg2\n",
    "\n",
    "# Python SQL toolkit and Object Relational Mapper\n",
    "import sqlite3\n",
    "import sqlalchemy\n",
    "from sqlalchemy import create_engine\n"
   ]
  },
  {
   "cell_type": "code",
   "execution_count": 2,
   "id": "81c2f2d0",
   "metadata": {
    "scrolled": true
   },
   "outputs": [
    {
     "name": "stdout",
     "output_type": "stream",
     "text": [
      "<class 'pandas.core.frame.DataFrame'>\n",
      "RangeIndex: 44583 entries, 0 to 44582\n",
      "Data columns (total 15 columns):\n",
      " #   Column              Non-Null Count  Dtype \n",
      "---  ------              --------------  ----- \n",
      " 0   county_desc         44583 non-null  object\n",
      " 1   precinct_abbrv      44583 non-null  object\n",
      " 2   vtd_abbrv           44583 non-null  object\n",
      " 3   age                 44583 non-null  object\n",
      " 4   party_cd            44583 non-null  object\n",
      " 5   race_code           44583 non-null  object\n",
      " 6   ethnic_code         44583 non-null  object\n",
      " 7   sex_code            44583 non-null  object\n",
      " 8   total_voters        44583 non-null  int64 \n",
      " 9   election_date       44583 non-null  object\n",
      " 10  stats_type          44583 non-null  object\n",
      " 11  update_date         44583 non-null  object\n",
      " 12  voting_method       44583 non-null  object\n",
      " 13  voting_method_desc  44583 non-null  object\n",
      " 14  voted_party_cd      44583 non-null  object\n",
      "dtypes: int64(1), object(14)\n",
      "memory usage: 5.1+ MB\n"
     ]
    }
   ],
   "source": [
    "#Reading in the original .txt file as csv\n",
    "\n",
    "nc_voter_df = pd.read_csv('NC_Resources/history_stats_20220726.txt', delimiter='\\t')\n",
    "#viewing the information\n",
    "nc_voter_df.info()"
   ]
  },
  {
   "cell_type": "code",
   "execution_count": 3,
   "id": "29ad408f",
   "metadata": {},
   "outputs": [
    {
     "data": {
      "text/html": [
       "<div>\n",
       "<style scoped>\n",
       "    .dataframe tbody tr th:only-of-type {\n",
       "        vertical-align: middle;\n",
       "    }\n",
       "\n",
       "    .dataframe tbody tr th {\n",
       "        vertical-align: top;\n",
       "    }\n",
       "\n",
       "    .dataframe thead th {\n",
       "        text-align: right;\n",
       "    }\n",
       "</style>\n",
       "<table border=\"1\" class=\"dataframe\">\n",
       "  <thead>\n",
       "    <tr style=\"text-align: right;\">\n",
       "      <th></th>\n",
       "      <th>county_desc</th>\n",
       "      <th>precinct_abbrv</th>\n",
       "      <th>vtd_abbrv</th>\n",
       "      <th>age</th>\n",
       "      <th>party_cd</th>\n",
       "      <th>race_code</th>\n",
       "      <th>ethnic_code</th>\n",
       "      <th>sex_code</th>\n",
       "      <th>total_voters</th>\n",
       "      <th>election_date</th>\n",
       "      <th>stats_type</th>\n",
       "      <th>update_date</th>\n",
       "      <th>voting_method</th>\n",
       "      <th>voting_method_desc</th>\n",
       "      <th>voted_party_cd</th>\n",
       "    </tr>\n",
       "  </thead>\n",
       "  <tbody>\n",
       "    <tr>\n",
       "      <th>0</th>\n",
       "      <td>MECKLENBURG</td>\n",
       "      <td>056</td>\n",
       "      <td>056</td>\n",
       "      <td>Age Over 66</td>\n",
       "      <td>DEM</td>\n",
       "      <td>B</td>\n",
       "      <td>NL</td>\n",
       "      <td>F</td>\n",
       "      <td>4</td>\n",
       "      <td>07/26/2022</td>\n",
       "      <td>history</td>\n",
       "      <td>08/10/2022</td>\n",
       "      <td>U</td>\n",
       "      <td>ABS-CURB</td>\n",
       "      <td>DEM</td>\n",
       "    </tr>\n",
       "    <tr>\n",
       "      <th>1</th>\n",
       "      <td>MECKLENBURG</td>\n",
       "      <td>056</td>\n",
       "      <td>056</td>\n",
       "      <td>Age Over 66</td>\n",
       "      <td>DEM</td>\n",
       "      <td>B</td>\n",
       "      <td>NL</td>\n",
       "      <td>F</td>\n",
       "      <td>14</td>\n",
       "      <td>07/26/2022</td>\n",
       "      <td>history</td>\n",
       "      <td>08/10/2022</td>\n",
       "      <td>V</td>\n",
       "      <td>IN-PERSON</td>\n",
       "      <td>DEM</td>\n",
       "    </tr>\n",
       "    <tr>\n",
       "      <th>2</th>\n",
       "      <td>MECKLENBURG</td>\n",
       "      <td>056</td>\n",
       "      <td>056</td>\n",
       "      <td>Age Over 66</td>\n",
       "      <td>DEM</td>\n",
       "      <td>B</td>\n",
       "      <td>NL</td>\n",
       "      <td>M</td>\n",
       "      <td>6</td>\n",
       "      <td>07/26/2022</td>\n",
       "      <td>history</td>\n",
       "      <td>08/10/2022</td>\n",
       "      <td>O</td>\n",
       "      <td>ABS-1STOP</td>\n",
       "      <td>DEM</td>\n",
       "    </tr>\n",
       "    <tr>\n",
       "      <th>3</th>\n",
       "      <td>MECKLENBURG</td>\n",
       "      <td>056</td>\n",
       "      <td>056</td>\n",
       "      <td>Age Over 66</td>\n",
       "      <td>DEM</td>\n",
       "      <td>B</td>\n",
       "      <td>NL</td>\n",
       "      <td>M</td>\n",
       "      <td>1</td>\n",
       "      <td>07/26/2022</td>\n",
       "      <td>history</td>\n",
       "      <td>08/10/2022</td>\n",
       "      <td>U</td>\n",
       "      <td>ABS-CURB</td>\n",
       "      <td>DEM</td>\n",
       "    </tr>\n",
       "    <tr>\n",
       "      <th>4</th>\n",
       "      <td>MECKLENBURG</td>\n",
       "      <td>056</td>\n",
       "      <td>056</td>\n",
       "      <td>Age Over 66</td>\n",
       "      <td>DEM</td>\n",
       "      <td>B</td>\n",
       "      <td>NL</td>\n",
       "      <td>M</td>\n",
       "      <td>8</td>\n",
       "      <td>07/26/2022</td>\n",
       "      <td>history</td>\n",
       "      <td>08/10/2022</td>\n",
       "      <td>V</td>\n",
       "      <td>IN-PERSON</td>\n",
       "      <td>DEM</td>\n",
       "    </tr>\n",
       "    <tr>\n",
       "      <th>...</th>\n",
       "      <td>...</td>\n",
       "      <td>...</td>\n",
       "      <td>...</td>\n",
       "      <td>...</td>\n",
       "      <td>...</td>\n",
       "      <td>...</td>\n",
       "      <td>...</td>\n",
       "      <td>...</td>\n",
       "      <td>...</td>\n",
       "      <td>...</td>\n",
       "      <td>...</td>\n",
       "      <td>...</td>\n",
       "      <td>...</td>\n",
       "      <td>...</td>\n",
       "      <td>...</td>\n",
       "    </tr>\n",
       "    <tr>\n",
       "      <th>44578</th>\n",
       "      <td>MECKLENBURG</td>\n",
       "      <td>056</td>\n",
       "      <td>056</td>\n",
       "      <td>Age 41 - 65</td>\n",
       "      <td>UNA</td>\n",
       "      <td>W</td>\n",
       "      <td>NL</td>\n",
       "      <td>M</td>\n",
       "      <td>1</td>\n",
       "      <td>07/26/2022</td>\n",
       "      <td>history</td>\n",
       "      <td>08/10/2022</td>\n",
       "      <td>O</td>\n",
       "      <td>ABS-1STOP</td>\n",
       "      <td>UNA</td>\n",
       "    </tr>\n",
       "    <tr>\n",
       "      <th>44579</th>\n",
       "      <td>MECKLENBURG</td>\n",
       "      <td>056</td>\n",
       "      <td>056</td>\n",
       "      <td>Age Over 66</td>\n",
       "      <td>DEM</td>\n",
       "      <td>A</td>\n",
       "      <td>UN</td>\n",
       "      <td>M</td>\n",
       "      <td>1</td>\n",
       "      <td>07/26/2022</td>\n",
       "      <td>history</td>\n",
       "      <td>08/10/2022</td>\n",
       "      <td>V</td>\n",
       "      <td>IN-PERSON</td>\n",
       "      <td>DEM</td>\n",
       "    </tr>\n",
       "    <tr>\n",
       "      <th>44580</th>\n",
       "      <td>MECKLENBURG</td>\n",
       "      <td>056</td>\n",
       "      <td>056</td>\n",
       "      <td>Age Over 66</td>\n",
       "      <td>DEM</td>\n",
       "      <td>B</td>\n",
       "      <td>NL</td>\n",
       "      <td>F</td>\n",
       "      <td>1</td>\n",
       "      <td>07/26/2022</td>\n",
       "      <td>history</td>\n",
       "      <td>08/10/2022</td>\n",
       "      <td>C</td>\n",
       "      <td>CURBSIDE</td>\n",
       "      <td>DEM</td>\n",
       "    </tr>\n",
       "    <tr>\n",
       "      <th>44581</th>\n",
       "      <td>MECKLENBURG</td>\n",
       "      <td>056</td>\n",
       "      <td>056</td>\n",
       "      <td>Age Over 66</td>\n",
       "      <td>DEM</td>\n",
       "      <td>B</td>\n",
       "      <td>NL</td>\n",
       "      <td>F</td>\n",
       "      <td>2</td>\n",
       "      <td>07/26/2022</td>\n",
       "      <td>history</td>\n",
       "      <td>08/10/2022</td>\n",
       "      <td>M</td>\n",
       "      <td>ABS-MAIL</td>\n",
       "      <td>DEM</td>\n",
       "    </tr>\n",
       "    <tr>\n",
       "      <th>44582</th>\n",
       "      <td>MECKLENBURG</td>\n",
       "      <td>056</td>\n",
       "      <td>056</td>\n",
       "      <td>Age Over 66</td>\n",
       "      <td>DEM</td>\n",
       "      <td>B</td>\n",
       "      <td>NL</td>\n",
       "      <td>F</td>\n",
       "      <td>13</td>\n",
       "      <td>07/26/2022</td>\n",
       "      <td>history</td>\n",
       "      <td>08/10/2022</td>\n",
       "      <td>O</td>\n",
       "      <td>ABS-1STOP</td>\n",
       "      <td>DEM</td>\n",
       "    </tr>\n",
       "  </tbody>\n",
       "</table>\n",
       "<p>44583 rows × 15 columns</p>\n",
       "</div>"
      ],
      "text/plain": [
       "       county_desc precinct_abbrv vtd_abbrv          age party_cd race_code  \\\n",
       "0      MECKLENBURG            056       056  Age Over 66      DEM         B   \n",
       "1      MECKLENBURG            056       056  Age Over 66      DEM         B   \n",
       "2      MECKLENBURG            056       056  Age Over 66      DEM         B   \n",
       "3      MECKLENBURG            056       056  Age Over 66      DEM         B   \n",
       "4      MECKLENBURG            056       056  Age Over 66      DEM         B   \n",
       "...            ...            ...       ...          ...      ...       ...   \n",
       "44578  MECKLENBURG            056       056  Age 41 - 65      UNA         W   \n",
       "44579  MECKLENBURG            056       056  Age Over 66      DEM         A   \n",
       "44580  MECKLENBURG            056       056  Age Over 66      DEM         B   \n",
       "44581  MECKLENBURG            056       056  Age Over 66      DEM         B   \n",
       "44582  MECKLENBURG            056       056  Age Over 66      DEM         B   \n",
       "\n",
       "      ethnic_code sex_code  total_voters election_date stats_type update_date  \\\n",
       "0              NL        F             4    07/26/2022    history  08/10/2022   \n",
       "1              NL        F            14    07/26/2022    history  08/10/2022   \n",
       "2              NL        M             6    07/26/2022    history  08/10/2022   \n",
       "3              NL        M             1    07/26/2022    history  08/10/2022   \n",
       "4              NL        M             8    07/26/2022    history  08/10/2022   \n",
       "...           ...      ...           ...           ...        ...         ...   \n",
       "44578          NL        M             1    07/26/2022    history  08/10/2022   \n",
       "44579          UN        M             1    07/26/2022    history  08/10/2022   \n",
       "44580          NL        F             1    07/26/2022    history  08/10/2022   \n",
       "44581          NL        F             2    07/26/2022    history  08/10/2022   \n",
       "44582          NL        F            13    07/26/2022    history  08/10/2022   \n",
       "\n",
       "      voting_method voting_method_desc voted_party_cd  \n",
       "0                 U           ABS-CURB            DEM  \n",
       "1                 V          IN-PERSON            DEM  \n",
       "2                 O          ABS-1STOP            DEM  \n",
       "3                 U           ABS-CURB            DEM  \n",
       "4                 V          IN-PERSON            DEM  \n",
       "...             ...                ...            ...  \n",
       "44578             O          ABS-1STOP            UNA  \n",
       "44579             V          IN-PERSON            DEM  \n",
       "44580             C           CURBSIDE            DEM  \n",
       "44581             M           ABS-MAIL            DEM  \n",
       "44582             O          ABS-1STOP            DEM  \n",
       "\n",
       "[44583 rows x 15 columns]"
      ]
     },
     "execution_count": 3,
     "metadata": {},
     "output_type": "execute_result"
    }
   ],
   "source": [
    "#Beginning the cleaning process, dropping any NaN values\n",
    "nc_voter_df.dropna()"
   ]
  },
  {
   "cell_type": "code",
   "execution_count": 4,
   "id": "bddf4391",
   "metadata": {},
   "outputs": [
    {
     "data": {
      "text/html": [
       "<div>\n",
       "<style scoped>\n",
       "    .dataframe tbody tr th:only-of-type {\n",
       "        vertical-align: middle;\n",
       "    }\n",
       "\n",
       "    .dataframe tbody tr th {\n",
       "        vertical-align: top;\n",
       "    }\n",
       "\n",
       "    .dataframe thead th {\n",
       "        text-align: right;\n",
       "    }\n",
       "</style>\n",
       "<table border=\"1\" class=\"dataframe\">\n",
       "  <thead>\n",
       "    <tr style=\"text-align: right;\">\n",
       "      <th></th>\n",
       "      <th>county_desc</th>\n",
       "      <th>party_cd</th>\n",
       "      <th>race_code</th>\n",
       "      <th>ethnic_code</th>\n",
       "      <th>total_voters</th>\n",
       "      <th>election_date</th>\n",
       "    </tr>\n",
       "  </thead>\n",
       "  <tbody>\n",
       "    <tr>\n",
       "      <th>0</th>\n",
       "      <td>MECKLENBURG</td>\n",
       "      <td>DEM</td>\n",
       "      <td>B</td>\n",
       "      <td>NL</td>\n",
       "      <td>4</td>\n",
       "      <td>07/26/2022</td>\n",
       "    </tr>\n",
       "    <tr>\n",
       "      <th>1</th>\n",
       "      <td>MECKLENBURG</td>\n",
       "      <td>DEM</td>\n",
       "      <td>B</td>\n",
       "      <td>NL</td>\n",
       "      <td>14</td>\n",
       "      <td>07/26/2022</td>\n",
       "    </tr>\n",
       "    <tr>\n",
       "      <th>2</th>\n",
       "      <td>MECKLENBURG</td>\n",
       "      <td>DEM</td>\n",
       "      <td>B</td>\n",
       "      <td>NL</td>\n",
       "      <td>6</td>\n",
       "      <td>07/26/2022</td>\n",
       "    </tr>\n",
       "    <tr>\n",
       "      <th>3</th>\n",
       "      <td>MECKLENBURG</td>\n",
       "      <td>DEM</td>\n",
       "      <td>B</td>\n",
       "      <td>NL</td>\n",
       "      <td>1</td>\n",
       "      <td>07/26/2022</td>\n",
       "    </tr>\n",
       "    <tr>\n",
       "      <th>4</th>\n",
       "      <td>MECKLENBURG</td>\n",
       "      <td>DEM</td>\n",
       "      <td>B</td>\n",
       "      <td>NL</td>\n",
       "      <td>8</td>\n",
       "      <td>07/26/2022</td>\n",
       "    </tr>\n",
       "  </tbody>\n",
       "</table>\n",
       "</div>"
      ],
      "text/plain": [
       "   county_desc party_cd race_code ethnic_code  total_voters election_date\n",
       "0  MECKLENBURG      DEM         B          NL             4    07/26/2022\n",
       "1  MECKLENBURG      DEM         B          NL            14    07/26/2022\n",
       "2  MECKLENBURG      DEM         B          NL             6    07/26/2022\n",
       "3  MECKLENBURG      DEM         B          NL             1    07/26/2022\n",
       "4  MECKLENBURG      DEM         B          NL             8    07/26/2022"
      ]
     },
     "execution_count": 4,
     "metadata": {},
     "output_type": "execute_result"
    }
   ],
   "source": [
    "#Specifying which columns to keep and eliminating ones irrelevant to our process:\n",
    "\n",
    "nc_voter_df = nc_voter_df[['county_desc', 'party_cd', 'race_code','ethnic_code','total_voters','election_date']].copy()\n",
    "nc_voter_df.head()"
   ]
  },
  {
   "cell_type": "code",
   "execution_count": 5,
   "id": "79d0c48f",
   "metadata": {},
   "outputs": [],
   "source": [
    "#Creating a state column and filling it with the appropriate two character shorthand:\n",
    "#This column's relevancy will be evident when comparing its information with the other states to be loaded in the SQL database.\n",
    "nc_voter_df['State'] ='NC'"
   ]
  },
  {
   "cell_type": "code",
   "execution_count": 6,
   "id": "9d5abe8e",
   "metadata": {},
   "outputs": [
    {
     "data": {
      "text/plain": [
       "Index(['county_desc', 'party_cd', 'race_code', 'ethnic_code', 'total_voters',\n",
       "       'election_date', 'State'],\n",
       "      dtype='object')"
      ]
     },
     "execution_count": 6,
     "metadata": {},
     "output_type": "execute_result"
    }
   ],
   "source": [
    "#Reviewing the column names before renaming them\n",
    "nc_voter_df.columns"
   ]
  },
  {
   "cell_type": "code",
   "execution_count": 7,
   "id": "708129d3",
   "metadata": {},
   "outputs": [],
   "source": [
    "#Renaming the headings for increased standardization among the various datasets to be loaded into the SQL database:\n",
    "\n",
    "new_cols = ['State','county_desc', 'party_cd', 'race_code', 'ethnic_code', 'total_voters',\n",
    "       'election_date']\n",
    "nc_voter_df = nc_voter_df[new_cols]"
   ]
  },
  {
   "cell_type": "code",
   "execution_count": 8,
   "id": "afd32c7b",
   "metadata": {},
   "outputs": [],
   "source": [
    "#Changing the names of the columns to ensure consistent naming practice across all datasets:\n",
    "\n",
    "nc_voter_df.rename(columns = {'county_desc':'County_Name', 'party_cd':'Party',\n",
    "                            'race_code':'Race_Code', 'ethnic_code': 'Ethnic_Code',\n",
    "                            'total_voters':'Total_Voters',\n",
    "                            'election_date':'Election_Date'}, inplace=True)"
   ]
  },
  {
   "cell_type": "code",
   "execution_count": 9,
   "id": "09bf0f4e",
   "metadata": {},
   "outputs": [
    {
     "data": {
      "text/plain": [
       "State            object\n",
       "County_Name      object\n",
       "Party            object\n",
       "Race_Code        object\n",
       "Ethnic_Code      object\n",
       "Total_Voters      int64\n",
       "Election_Date    object\n",
       "dtype: object"
      ]
     },
     "execution_count": 9,
     "metadata": {},
     "output_type": "execute_result"
    }
   ],
   "source": [
    "#checking the dtypes for quality control\n",
    "nc_voter_df.dtypes"
   ]
  },
  {
   "cell_type": "code",
   "execution_count": 10,
   "id": "fcfddbd3",
   "metadata": {},
   "outputs": [],
   "source": [
    "# Change 'date' column into a 'datetime' datatype, eliminating the 'time' field as it is not used\n",
    "nc_voter_df['Election_Date'] = pd.to_datetime(nc_voter_df['Election_Date'], errors='coerce')"
   ]
  },
  {
   "cell_type": "code",
   "execution_count": 11,
   "id": "206a6712",
   "metadata": {
    "scrolled": false
   },
   "outputs": [
    {
     "data": {
      "text/plain": [
       "State                    object\n",
       "County_Name              object\n",
       "Party                    object\n",
       "Race_Code                object\n",
       "Ethnic_Code              object\n",
       "Total_Voters              int64\n",
       "Election_Date    datetime64[ns]\n",
       "dtype: object"
      ]
     },
     "execution_count": 11,
     "metadata": {},
     "output_type": "execute_result"
    }
   ],
   "source": [
    "#checking the dtypes to ensure changes were kept\n",
    "\n",
    "nc_voter_df.dtypes"
   ]
  },
  {
   "cell_type": "code",
   "execution_count": 12,
   "id": "f13f01e7",
   "metadata": {},
   "outputs": [
    {
     "data": {
      "text/plain": [
       "array(['DEM', 'REP', 'UNA'], dtype=object)"
      ]
     },
     "execution_count": 12,
     "metadata": {},
     "output_type": "execute_result"
    }
   ],
   "source": [
    "#Changing party values to ensure consistent naming practice across all datasets:\n",
    "\n",
    "nc_voter_df['Party'] = nc_voter_df['Party'].replace(['UNA','LIB'], 'UNA')\n",
    "nc_voter_df['Party'].unique()"
   ]
  },
  {
   "cell_type": "code",
   "execution_count": 13,
   "id": "88c07ba2",
   "metadata": {},
   "outputs": [
    {
     "data": {
      "text/plain": [
       "array(['MECKLENBURG', 'NASH', 'WAKE', 'CATAWBA', 'CHATHAM', 'CRAVEN',\n",
       "       'CUMBERLAND', 'FRANKLIN', 'GRAHAM', 'IREDELL', 'LEE'], dtype=object)"
      ]
     },
     "execution_count": 13,
     "metadata": {},
     "output_type": "execute_result"
    }
   ],
   "source": [
    "#Running some initial inquiries and visualization strategy to understand the dataset and check for possible red flags\n",
    "\n",
    "nc_voter_df['County_Name'].unique()"
   ]
  },
  {
   "cell_type": "code",
   "execution_count": 14,
   "id": "082e9887",
   "metadata": {},
   "outputs": [
    {
     "data": {
      "text/plain": [
       "County_Name\n",
       "MECKLENBURG    72865\n",
       "WAKE           38112\n",
       "CUMBERLAND     14908\n",
       "CRAVEN          6138\n",
       "FRANKLIN        4705\n",
       "IREDELL         3181\n",
       "CATAWBA         2052\n",
       "LEE             1759\n",
       "NASH             955\n",
       "GRAHAM           871\n",
       "CHATHAM          474\n",
       "Name: Total_Voters, dtype: int64"
      ]
     },
     "execution_count": 14,
     "metadata": {},
     "output_type": "execute_result"
    }
   ],
   "source": [
    "voter_turnout = nc_voter_df.groupby('County_Name')['Total_Voters'].sum().sort_values(ascending=False)\n",
    "voter_turnout"
   ]
  },
  {
   "cell_type": "code",
   "execution_count": 15,
   "id": "1037b55c",
   "metadata": {},
   "outputs": [
    {
     "data": {
      "image/png": "[encoded data removed]",
      "text/plain": [
       "<Figure size 720x576 with 1 Axes>"
      ]
     },
     "metadata": {
      "needs_background": "light"
     },
     "output_type": "display_data"
    }
   ],
   "source": [
    "x = [1,2,3,4,5,6,7,8,9,10,11]\n",
    "y = voter_turnout\n",
    "labels = ['MECKLENBURG', 'NASH', 'WAKE', 'CATAWBA', 'CHATHAM', 'CRAVEN',\n",
    "       'CUMBERLAND', 'FRANKLIN', 'GRAHAM', 'IREDELL', 'LEE']\n",
    "plt.subplots_adjust(bottom=0.15)\n",
    "\n",
    "plt.subplot(122)\n",
    "plt.plot(x, y, marker='D')\n",
    "plt.xticks(x, labels, rotation='vertical')\n",
    "plt.margins(0.2)\n",
    "plt.title(\"Vertical tick label\")\n",
    "plt.gcf().set_size_inches(10,8)\n",
    "plt.grid(linewidth = 0.25)\n",
    "\n",
    "plt.show()"
   ]
  },
  {
   "cell_type": "code",
   "execution_count": 16,
   "id": "5aa5d11e",
   "metadata": {},
   "outputs": [],
   "source": [
    "#Path for final dataframe destination:\n",
    "protocol = 'postgresql'\n",
    "username = 'postgres'\n",
    "password = 'postgres'\n",
    "host = 'localhost'\n",
    "port = 5432\n",
    "database_name = 'state_voters_db'\n",
    "rds_connection_string = f'{protocol}://{username}:{password}@{host}:{port}/{database_name}'\n",
    "engine = create_engine(rds_connection_string)"
   ]
  },
  {
   "cell_type": "code",
   "execution_count": 17,
   "id": "1bfb7165",
   "metadata": {},
   "outputs": [],
   "source": [
    "#using pandas to load converted dataframe into database\n",
    "nc_voter_df.to_sql(name='nc_voter_data', con=engine, if_exists='replace', index=False)"
   ]
  },
  {
   "cell_type": "code",
   "execution_count": 18,
   "id": "7dd83f1e",
   "metadata": {},
   "outputs": [],
   "source": [
    "#storing the dataframe in a csv for review as/if needed\n",
    "nc_voter_df.to_csv('NC_Resources/cleaned_nc_voterdata.csv')"
   ]
  },
  {
   "cell_type": "code",
   "execution_count": 19,
   "id": "26313de8",
   "metadata": {},
   "outputs": [
    {
     "data": {
      "text/html": [
       "<div>\n",
       "<style scoped>\n",
       "    .dataframe tbody tr th:only-of-type {\n",
       "        vertical-align: middle;\n",
       "    }\n",
       "\n",
       "    .dataframe tbody tr th {\n",
       "        vertical-align: top;\n",
       "    }\n",
       "\n",
       "    .dataframe thead th {\n",
       "        text-align: right;\n",
       "    }\n",
       "</style>\n",
       "<table border=\"1\" class=\"dataframe\">\n",
       "  <thead>\n",
       "    <tr style=\"text-align: right;\">\n",
       "      <th></th>\n",
       "      <th>State</th>\n",
       "      <th>County_Name</th>\n",
       "      <th>Party</th>\n",
       "      <th>Race_Code</th>\n",
       "      <th>Ethnic_Code</th>\n",
       "      <th>Total_Voters</th>\n",
       "      <th>Election_Date</th>\n",
       "    </tr>\n",
       "  </thead>\n",
       "  <tbody>\n",
       "    <tr>\n",
       "      <th>0</th>\n",
       "      <td>NC</td>\n",
       "      <td>MECKLENBURG</td>\n",
       "      <td>DEM</td>\n",
       "      <td>B</td>\n",
       "      <td>NL</td>\n",
       "      <td>4</td>\n",
       "      <td>2022-07-26</td>\n",
       "    </tr>\n",
       "    <tr>\n",
       "      <th>1</th>\n",
       "      <td>NC</td>\n",
       "      <td>MECKLENBURG</td>\n",
       "      <td>DEM</td>\n",
       "      <td>B</td>\n",
       "      <td>NL</td>\n",
       "      <td>14</td>\n",
       "      <td>2022-07-26</td>\n",
       "    </tr>\n",
       "    <tr>\n",
       "      <th>2</th>\n",
       "      <td>NC</td>\n",
       "      <td>MECKLENBURG</td>\n",
       "      <td>DEM</td>\n",
       "      <td>B</td>\n",
       "      <td>NL</td>\n",
       "      <td>6</td>\n",
       "      <td>2022-07-26</td>\n",
       "    </tr>\n",
       "    <tr>\n",
       "      <th>3</th>\n",
       "      <td>NC</td>\n",
       "      <td>MECKLENBURG</td>\n",
       "      <td>DEM</td>\n",
       "      <td>B</td>\n",
       "      <td>NL</td>\n",
       "      <td>1</td>\n",
       "      <td>2022-07-26</td>\n",
       "    </tr>\n",
       "    <tr>\n",
       "      <th>4</th>\n",
       "      <td>NC</td>\n",
       "      <td>MECKLENBURG</td>\n",
       "      <td>DEM</td>\n",
       "      <td>B</td>\n",
       "      <td>NL</td>\n",
       "      <td>8</td>\n",
       "      <td>2022-07-26</td>\n",
       "    </tr>\n",
       "  </tbody>\n",
       "</table>\n",
       "</div>"
      ],
      "text/plain": [
       "  State  County_Name Party Race_Code Ethnic_Code  Total_Voters Election_Date\n",
       "0    NC  MECKLENBURG   DEM         B          NL             4    2022-07-26\n",
       "1    NC  MECKLENBURG   DEM         B          NL            14    2022-07-26\n",
       "2    NC  MECKLENBURG   DEM         B          NL             6    2022-07-26\n",
       "3    NC  MECKLENBURG   DEM         B          NL             1    2022-07-26\n",
       "4    NC  MECKLENBURG   DEM         B          NL             8    2022-07-26"
      ]
     },
     "execution_count": 19,
     "metadata": {},
     "output_type": "execute_result"
    }
   ],
   "source": [
    "#Running a query to make sure our process is complete:\n",
    "pd.read_sql_query('select * from nc_voter_data', con=engine).head()"
   ]
  },
  {
   "cell_type": "code",
   "execution_count": null,
   "id": "ed83bc5e",
   "metadata": {},
   "outputs": [],
   "source": []
  }
 ],
 "metadata": {
  "kernelspec": {
   "display_name": "PythonData",
   "language": "python",
   "name": "pythondata"
  },
  "language_info": {
   "codemirror_mode": {
    "name": "ipython",
    "version": 3
   },
   "file_extension": ".py",
   "mimetype": "text/x-python",
   "name": "python",
   "nbconvert_exporter": "python",
   "pygments_lexer": "ipython3",
   "version": "3.7.7"
  }
 },
 "nbformat": 4,
 "nbformat_minor": 5
}
